{
 "cells": [
  {
   "cell_type": "markdown",
   "id": "4d4cd0e4",
   "metadata": {
    "papermill": {
     "duration": 0.003504,
     "end_time": "2023-11-06T07:11:07.722129",
     "exception": false,
     "start_time": "2023-11-06T07:11:07.718625",
     "status": "completed"
    },
    "tags": []
   },
   "source": [
    "# Jungi Kishan Gopalbhai [216270307014]\n",
    "\n",
    "# Practical 10\n",
    "\n",
    "# 1.Write a Pandas program to implement following operation to find and drop the missing values from the given dataset.\n"
   ]
  },
  {
   "cell_type": "code",
   "execution_count": 1,
   "id": "3a700d31",
   "metadata": {
    "execution": {
     "iopub.execute_input": "2023-11-06T07:11:07.730273Z",
     "iopub.status.busy": "2023-11-06T07:11:07.729551Z",
     "iopub.status.idle": "2023-11-06T07:11:08.244562Z",
     "shell.execute_reply": "2023-11-06T07:11:08.243250Z"
    },
    "papermill": {
     "duration": 0.522894,
     "end_time": "2023-11-06T07:11:08.247997",
     "exception": false,
     "start_time": "2023-11-06T07:11:07.725103",
     "status": "completed"
    },
    "tags": []
   },
   "outputs": [
    {
     "name": "stdout",
     "output_type": "stream",
     "text": [
      "DataFrame after dropping missing values:\n",
      "    Duration          Date  Pulse  Maxpulse  Calories\n",
      "0         60  '2020/12/01'    110       130     409.1\n",
      "1         60  '2020/12/02'    117       145     479.0\n",
      "2         60  '2020/12/03'    103       135     340.0\n",
      "3         45  '2020/12/04'    109       175     282.4\n",
      "4         45  '2020/12/05'    117       148     406.0\n",
      "5         60  '2020/12/06'    102       127     300.0\n",
      "6         60  '2020/12/07'    110       136     374.0\n",
      "7        450  '2020/12/08'    104       134     253.3\n",
      "8         30  '2020/12/09'    109       133     195.1\n",
      "9         60  '2020/12/10'     98       124     269.0\n",
      "10        60  '2020/12/11'    103       147     329.3\n",
      "11        60  '2020/12/12'    100       120     250.7\n",
      "12        60  '2020/12/12'    100       120     250.7\n",
      "13        60  '2020/12/13'    106       128     345.3\n",
      "14        60  '2020/12/14'    104       132     379.3\n",
      "15        60  '2020/12/15'     98       123     275.0\n",
      "16        60  '2020/12/16'     98       120     215.2\n",
      "17        60  '2020/12/17'    100       120     300.0\n",
      "19        60  '2020/12/19'    103       123     323.0\n",
      "20        45  '2020/12/20'     97       125     243.0\n",
      "21        60  '2020/12/21'    108       131     364.2\n",
      "23        60  '2020/12/23'    130       101     300.0\n",
      "24        45  '2020/12/24'    105       132     246.0\n",
      "25        60  '2020/12/25'    102       126     334.5\n",
      "26        60      20201226    100       120     250.0\n",
      "27        60  '2020/12/27'     92       118     241.0\n",
      "29        60  '2020/12/29'    100       132     280.0\n",
      "30        60  '2020/12/30'    102       129     380.3\n",
      "31        60  '2020/12/31'     92       115     243.0\n"
     ]
    }
   ],
   "source": [
    "# (10.1) Write a Pandas program to implement following operation to find and drop the missing values from the given dataset.\n",
    "\n",
    "\n",
    "# KISHAN JUNGI\n",
    "# 216270307014\n",
    "\n",
    "import pandas as pd\n",
    "\n",
    "data=pd.read_csv('/kaggle/input/wrong-data/wrong_data.csv')\n",
    "\n",
    "df = pd.DataFrame(data)\n",
    "\n",
    "df.dropna(inplace=True)\n",
    "\n",
    "print(\"DataFrame after dropping missing values:\")\n",
    "print(df)\n"
   ]
  },
  {
   "cell_type": "markdown",
   "id": "5037c8ce",
   "metadata": {
    "papermill": {
     "duration": 0.002422,
     "end_time": "2023-11-06T07:11:08.253333",
     "exception": false,
     "start_time": "2023-11-06T07:11:08.250911",
     "status": "completed"
    },
    "tags": []
   },
   "source": [
    "# 2.Write a Pandas program to implement following operation to remove the duplicates from the given dataset."
   ]
  },
  {
   "cell_type": "code",
   "execution_count": 2,
   "id": "a64ceb74",
   "metadata": {
    "execution": {
     "iopub.execute_input": "2023-11-06T07:11:08.260650Z",
     "iopub.status.busy": "2023-11-06T07:11:08.260175Z",
     "iopub.status.idle": "2023-11-06T07:11:08.294074Z",
     "shell.execute_reply": "2023-11-06T07:11:08.291873Z"
    },
    "papermill": {
     "duration": 0.041088,
     "end_time": "2023-11-06T07:11:08.297051",
     "exception": false,
     "start_time": "2023-11-06T07:11:08.255963",
     "status": "completed"
    },
    "tags": []
   },
   "outputs": [
    {
     "name": "stdout",
     "output_type": "stream",
     "text": [
      "DataFrame after removing duplicates:\n",
      "    Duration          Date  Pulse  Maxpulse  Calories\n",
      "0         60  '2020/12/01'    110       130     409.1\n",
      "1         60  '2020/12/02'    117       145     479.0\n",
      "2         60  '2020/12/03'    103       135     340.0\n",
      "3         45  '2020/12/04'    109       175     282.4\n",
      "4         45  '2020/12/05'    117       148     406.0\n",
      "5         60  '2020/12/06'    102       127     300.0\n",
      "6         60  '2020/12/07'    110       136     374.0\n",
      "7        450  '2020/12/08'    104       134     253.3\n",
      "8         30  '2020/12/09'    109       133     195.1\n",
      "9         60  '2020/12/10'     98       124     269.0\n",
      "10        60  '2020/12/11'    103       147     329.3\n",
      "11        60  '2020/12/12'    100       120     250.7\n",
      "13        60  '2020/12/13'    106       128     345.3\n",
      "14        60  '2020/12/14'    104       132     379.3\n",
      "15        60  '2020/12/15'     98       123     275.0\n",
      "16        60  '2020/12/16'     98       120     215.2\n",
      "17        60  '2020/12/17'    100       120     300.0\n",
      "18        45  '2020/12/18'     90       112       NaN\n",
      "19        60  '2020/12/19'    103       123     323.0\n",
      "20        45  '2020/12/20'     97       125     243.0\n",
      "21        60  '2020/12/21'    108       131     364.2\n",
      "22        45           NaN    100       119     282.0\n",
      "23        60  '2020/12/23'    130       101     300.0\n",
      "24        45  '2020/12/24'    105       132     246.0\n",
      "25        60  '2020/12/25'    102       126     334.5\n",
      "26        60      20201226    100       120     250.0\n",
      "27        60  '2020/12/27'     92       118     241.0\n",
      "28        60  '2020/12/28'    103       132       NaN\n",
      "29        60  '2020/12/29'    100       132     280.0\n",
      "30        60  '2020/12/30'    102       129     380.3\n",
      "31        60  '2020/12/31'     92       115     243.0\n"
     ]
    }
   ],
   "source": [
    "# (10.2) Write a Pandas program to implement following operation to remove the duplicates from the given dataset.\n",
    "\n",
    "# KISHAN JUNGI\n",
    "# 216270307014\n",
    "\n",
    "import pandas as pd\n",
    "\n",
    "data=pd.read_csv('/kaggle/input/wrong-data/wrong_data.csv')\n",
    "\n",
    "df = pd.DataFrame(data)\n",
    "\n",
    "df.drop_duplicates(inplace=True)\n",
    "\n",
    "print(\"DataFrame after removing duplicates:\")\n",
    "print(df)\n"
   ]
  },
  {
   "cell_type": "code",
   "execution_count": null,
   "id": "f84f2b4d",
   "metadata": {
    "papermill": {
     "duration": 0.002891,
     "end_time": "2023-11-06T07:11:08.303228",
     "exception": false,
     "start_time": "2023-11-06T07:11:08.300337",
     "status": "completed"
    },
    "tags": []
   },
   "outputs": [],
   "source": []
  }
 ],
 "metadata": {
  "kernelspec": {
   "display_name": "Python 3",
   "language": "python",
   "name": "python3"
  },
  "language_info": {
   "codemirror_mode": {
    "name": "ipython",
    "version": 3
   },
   "file_extension": ".py",
   "mimetype": "text/x-python",
   "name": "python",
   "nbconvert_exporter": "python",
   "pygments_lexer": "ipython3",
   "version": "3.10.12"
  },
  "papermill": {
   "default_parameters": {},
   "duration": 5.205118,
   "end_time": "2023-11-06T07:11:08.928954",
   "environment_variables": {},
   "exception": null,
   "input_path": "__notebook__.ipynb",
   "output_path": "__notebook__.ipynb",
   "parameters": {},
   "start_time": "2023-11-06T07:11:03.723836",
   "version": "2.4.0"
  }
 },
 "nbformat": 4,
 "nbformat_minor": 5
}
