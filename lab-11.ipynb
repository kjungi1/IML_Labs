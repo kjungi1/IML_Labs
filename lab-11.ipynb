{
 "cells": [
  {
   "cell_type": "markdown",
   "id": "ed3dd383",
   "metadata": {
    "papermill": {
     "duration": 0.002283,
     "end_time": "2023-11-06T07:11:37.059793",
     "exception": false,
     "start_time": "2023-11-06T07:11:37.057510",
     "status": "completed"
    },
    "tags": []
   },
   "source": [
    "# Jungi Kishan Gopalbhai [216270307014]\n",
    "\n",
    "# Practical 11\n",
    "\n",
    "# 1.Write a Pandas program to filter all columns where all entries present, check which rows and columns has a NaN and finally drop rows with any NaNs from the given dataset"
   ]
  },
  {
   "cell_type": "code",
   "execution_count": 1,
   "id": "526847e9",
   "metadata": {
    "execution": {
     "iopub.execute_input": "2023-11-06T07:11:37.065594Z",
     "iopub.status.busy": "2023-11-06T07:11:37.065243Z",
     "iopub.status.idle": "2023-11-06T07:11:37.496813Z",
     "shell.execute_reply": "2023-11-06T07:11:37.495828Z"
    },
    "papermill": {
     "duration": 0.44002,
     "end_time": "2023-11-06T07:11:37.501737",
     "exception": false,
     "start_time": "2023-11-06T07:11:37.061717",
     "status": "completed"
    },
    "tags": []
   },
   "outputs": [
    {
     "name": "stdout",
     "output_type": "stream",
     "text": [
      "DataFrame after filtering columns with all entries present:\n",
      "    Duration  Pulse  Maxpulse\n",
      "0         60    110       130\n",
      "1         60    117       145\n",
      "2         60    103       135\n",
      "3         45    109       175\n",
      "4         45    117       148\n",
      "5         60    102       127\n",
      "6         60    110       136\n",
      "7        450    104       134\n",
      "8         30    109       133\n",
      "9         60     98       124\n",
      "10        60    103       147\n",
      "11        60    100       120\n",
      "12        60    100       120\n",
      "13        60    106       128\n",
      "14        60    104       132\n",
      "15        60     98       123\n",
      "16        60     98       120\n",
      "17        60    100       120\n",
      "18        45     90       112\n",
      "19        60    103       123\n",
      "20        45     97       125\n",
      "21        60    108       131\n",
      "22        45    100       119\n",
      "23        60    130       101\n",
      "24        45    105       132\n",
      "25        60    102       126\n",
      "26        60    100       120\n",
      "27        60     92       118\n",
      "28        60    103       132\n",
      "29        60    100       132\n",
      "30        60    102       129\n",
      "31        60     92       115\n",
      "Rows with NaN values:\n",
      "    Duration          Date  Pulse  Maxpulse  Calories\n",
      "18        45  '2020/12/18'     90       112       NaN\n",
      "22        45           NaN    100       119     282.0\n",
      "28        60  '2020/12/28'    103       132       NaN\n",
      "Columns with NaN values:\n",
      "Index(['Date', 'Calories'], dtype='object')\n",
      "DataFrame after dropping rows with any NaNs:\n",
      "    Duration          Date  Pulse  Maxpulse  Calories\n",
      "0         60  '2020/12/01'    110       130     409.1\n",
      "1         60  '2020/12/02'    117       145     479.0\n",
      "2         60  '2020/12/03'    103       135     340.0\n",
      "3         45  '2020/12/04'    109       175     282.4\n",
      "4         45  '2020/12/05'    117       148     406.0\n",
      "5         60  '2020/12/06'    102       127     300.0\n",
      "6         60  '2020/12/07'    110       136     374.0\n",
      "7        450  '2020/12/08'    104       134     253.3\n",
      "8         30  '2020/12/09'    109       133     195.1\n",
      "9         60  '2020/12/10'     98       124     269.0\n",
      "10        60  '2020/12/11'    103       147     329.3\n",
      "11        60  '2020/12/12'    100       120     250.7\n",
      "12        60  '2020/12/12'    100       120     250.7\n",
      "13        60  '2020/12/13'    106       128     345.3\n",
      "14        60  '2020/12/14'    104       132     379.3\n",
      "15        60  '2020/12/15'     98       123     275.0\n",
      "16        60  '2020/12/16'     98       120     215.2\n",
      "17        60  '2020/12/17'    100       120     300.0\n",
      "19        60  '2020/12/19'    103       123     323.0\n",
      "20        45  '2020/12/20'     97       125     243.0\n",
      "21        60  '2020/12/21'    108       131     364.2\n",
      "23        60  '2020/12/23'    130       101     300.0\n",
      "24        45  '2020/12/24'    105       132     246.0\n",
      "25        60  '2020/12/25'    102       126     334.5\n",
      "26        60      20201226    100       120     250.0\n",
      "27        60  '2020/12/27'     92       118     241.0\n",
      "29        60  '2020/12/29'    100       132     280.0\n",
      "30        60  '2020/12/30'    102       129     380.3\n",
      "31        60  '2020/12/31'     92       115     243.0\n"
     ]
    }
   ],
   "source": [
    "# (11.1) Write a Pandas program to filter all columns where all entries present, heck which rows and columns has a NaN and finally drop rows with any \n",
    "# NaNs from the given dataset\n",
    "\n",
    "\n",
    "# KISHAN JUNGI\n",
    "# 216270307014\n",
    "\n",
    "import pandas as pd\n",
    "import numpy as np\n",
    "\n",
    "\n",
    "data = pd.read_csv('/kaggle/input/wrong-data/wrong_data.csv')\n",
    "df = pd.DataFrame(data)\n",
    "\n",
    "\n",
    "df_filtered = df.dropna(axis=1, how='any')\n",
    "\n",
    "print(\"DataFrame after filtering columns with all entries present:\")\n",
    "print(df_filtered)\n",
    "\n",
    "nan_rows = df[df.isna().any(axis=1)]\n",
    "nan_cols = df.columns[df.isna().any()]\n",
    "\n",
    "print(\"Rows with NaN values:\")\n",
    "print(nan_rows)\n",
    "print(\"Columns with NaN values:\")\n",
    "print(nan_cols)\n",
    "\n",
    "df_cleaned = df.dropna()\n",
    "\n",
    "print(\"DataFrame after dropping rows with any NaNs:\")\n",
    "print(df_cleaned)"
   ]
  },
  {
   "cell_type": "code",
   "execution_count": null,
   "id": "8980b85f",
   "metadata": {
    "papermill": {
     "duration": 0.001566,
     "end_time": "2023-11-06T07:11:37.505347",
     "exception": false,
     "start_time": "2023-11-06T07:11:37.503781",
     "status": "completed"
    },
    "tags": []
   },
   "outputs": [],
   "source": []
  }
 ],
 "metadata": {
  "kernelspec": {
   "display_name": "Python 3",
   "language": "python",
   "name": "python3"
  },
  "language_info": {
   "codemirror_mode": {
    "name": "ipython",
    "version": 3
   },
   "file_extension": ".py",
   "mimetype": "text/x-python",
   "name": "python",
   "nbconvert_exporter": "python",
   "pygments_lexer": "ipython3",
   "version": "3.10.12"
  },
  "papermill": {
   "default_parameters": {},
   "duration": 4.294282,
   "end_time": "2023-11-06T07:11:38.028495",
   "environment_variables": {},
   "exception": null,
   "input_path": "__notebook__.ipynb",
   "output_path": "__notebook__.ipynb",
   "parameters": {},
   "start_time": "2023-11-06T07:11:33.734213",
   "version": "2.4.0"
  }
 },
 "nbformat": 4,
 "nbformat_minor": 5
}
