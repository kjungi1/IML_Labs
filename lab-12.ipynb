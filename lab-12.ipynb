{
 "cells": [
  {
   "cell_type": "markdown",
   "id": "939d1260",
   "metadata": {
    "papermill": {
     "duration": 0.00261,
     "end_time": "2023-11-06T07:12:55.518776",
     "exception": false,
     "start_time": "2023-11-06T07:12:55.516166",
     "status": "completed"
    },
    "tags": []
   },
   "source": [
    "# Jungi Kishan Gopalbhai [216270307014]\n",
    "\n",
    "# Practical 12\n",
    "\n",
    "# 1.Write a Python program using Scikit-learn to print the keys, number of rows-columns, feature names and the description of the given data."
   ]
  },
  {
   "cell_type": "code",
   "execution_count": 1,
   "id": "62d7c17b",
   "metadata": {
    "execution": {
     "iopub.execute_input": "2023-11-06T07:12:55.526180Z",
     "iopub.status.busy": "2023-11-06T07:12:55.525717Z",
     "iopub.status.idle": "2023-11-06T07:12:57.203568Z",
     "shell.execute_reply": "2023-11-06T07:12:57.202607Z"
    },
    "papermill": {
     "duration": 1.686602,
     "end_time": "2023-11-06T07:12:57.207982",
     "exception": false,
     "start_time": "2023-11-06T07:12:55.521380",
     "status": "completed"
    },
    "tags": []
   },
   "outputs": [
    {
     "name": "stdout",
     "output_type": "stream",
     "text": [
      "Keys:\n",
      "dict_keys(['data', 'target', 'frame', 'target_names', 'DESCR', 'feature_names', 'filename', 'data_module'])\n",
      "\n",
      "Number of Rows and Columns:\n",
      "(150, 4)\n",
      "\n",
      "Feature Names:\n",
      "['sepal length (cm)', 'sepal width (cm)', 'petal length (cm)', 'petal width (cm)']\n"
     ]
    }
   ],
   "source": [
    "#  (12.1) Write a Python program using Scikit-learn to print the keys, number \n",
    "# of rows-columns, feature names and the description of the given data.\n",
    "\n",
    "\n",
    "\n",
    "# KISHAN JUNGI\n",
    "# 216270307014\n",
    "\n",
    "\n",
    "import numpy as np \n",
    "import pandas as pd \n",
    "\n",
    "from sklearn import datasets\n",
    "\n",
    "data = datasets.load_iris()\n",
    "\n",
    "# Print the keys\n",
    "print(\"Keys:\")\n",
    "print(data.keys())      \n",
    "print(\"\\nNumber of Rows and Columns:\")\n",
    "print(data.data.shape)\n",
    "\n",
    "print(\"\\nFeature Names:\")\n",
    "print(data.feature_names)\n"
   ]
  },
  {
   "cell_type": "code",
   "execution_count": null,
   "id": "8c045a22",
   "metadata": {
    "papermill": {
     "duration": 0.001913,
     "end_time": "2023-11-06T07:12:57.212195",
     "exception": false,
     "start_time": "2023-11-06T07:12:57.210282",
     "status": "completed"
    },
    "tags": []
   },
   "outputs": [],
   "source": []
  }
 ],
 "metadata": {
  "kernelspec": {
   "display_name": "Python 3",
   "language": "python",
   "name": "python3"
  },
  "language_info": {
   "codemirror_mode": {
    "name": "ipython",
    "version": 3
   },
   "file_extension": ".py",
   "mimetype": "text/x-python",
   "name": "python",
   "nbconvert_exporter": "python",
   "pygments_lexer": "ipython3",
   "version": "3.10.12"
  },
  "papermill": {
   "default_parameters": {},
   "duration": 6.00303,
   "end_time": "2023-11-06T07:12:57.836519",
   "environment_variables": {},
   "exception": null,
   "input_path": "__notebook__.ipynb",
   "output_path": "__notebook__.ipynb",
   "parameters": {},
   "start_time": "2023-11-06T07:12:51.833489",
   "version": "2.4.0"
  }
 },
 "nbformat": 4,
 "nbformat_minor": 5
}
