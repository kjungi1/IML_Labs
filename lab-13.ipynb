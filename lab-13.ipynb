{
 "cells": [
  {
   "cell_type": "markdown",
   "id": "69bc26d5",
   "metadata": {
    "papermill": {
     "duration": 0.002575,
     "end_time": "2023-11-06T07:13:35.723653",
     "exception": false,
     "start_time": "2023-11-06T07:13:35.721078",
     "status": "completed"
    },
    "tags": []
   },
   "source": [
    "# Jungi Kishan Gopalbhai [216270307014]\n",
    "\n",
    "# Practical 13\n",
    "\n",
    "# 1.Write a Python program to implement K-Nearest Neighbour supervised machine learning algorithm for given dataset."
   ]
  },
  {
   "cell_type": "code",
   "execution_count": 1,
   "id": "bc3b6350",
   "metadata": {
    "execution": {
     "iopub.execute_input": "2023-11-06T07:13:35.730214Z",
     "iopub.status.busy": "2023-11-06T07:13:35.729503Z",
     "iopub.status.idle": "2023-11-06T07:13:37.598267Z",
     "shell.execute_reply": "2023-11-06T07:13:37.597099Z"
    },
    "papermill": {
     "duration": 1.876688,
     "end_time": "2023-11-06T07:13:37.602657",
     "exception": false,
     "start_time": "2023-11-06T07:13:35.725969",
     "status": "completed"
    },
    "tags": []
   },
   "outputs": [
    {
     "name": "stdout",
     "output_type": "stream",
     "text": [
      "Confusion Matrix:\n",
      "[[ 9  0  0]\n",
      " [ 0 19  0]\n",
      " [ 0  1 16]]\n",
      "\n",
      "Classification Report:\n",
      "              precision    recall  f1-score   support\n",
      "\n",
      "           0       1.00      1.00      1.00         9\n",
      "           1       0.95      1.00      0.97        19\n",
      "           2       1.00      0.94      0.97        17\n",
      "\n",
      "    accuracy                           0.98        45\n",
      "   macro avg       0.98      0.98      0.98        45\n",
      "weighted avg       0.98      0.98      0.98        45\n",
      "\n"
     ]
    }
   ],
   "source": [
    "#  (13.1) Write a Python program to implement K-Nearest Neighbour supervised\n",
    "# machine learning algorithm for given dataset.\n",
    "\n",
    "\n",
    "# KISHAN JUNGI\n",
    "# 216270307014\n",
    "\n",
    "from sklearn import datasets\n",
    "from sklearn.model_selection import train_test_split\n",
    "from sklearn.preprocessing import StandardScaler\n",
    "from sklearn.neighbors import KNeighborsClassifier\n",
    "from sklearn.metrics import classification_report, confusion_matrix\n",
    "\n",
    "iris = datasets.load_iris()\n",
    "X = iris.data\n",
    "y = iris.target\n",
    "\n",
    "X_train, X_test, y_train, y_test = train_test_split(X, y, test_size=0.3) # 70% training and 30% testing\n",
    "\n",
    "scaler = StandardScaler()\n",
    "scaler.fit(X_train)\n",
    "\n",
    "X_train = scaler.transform(X_train)\n",
    "X_test = scaler.transform(X_test)\n",
    "\n",
    "k = 5\n",
    "knn = KNeighborsClassifier(n_neighbors=k)\n",
    "\n",
    "knn.fit(X_train,y_train)\n",
    "\n",
    "y_pred = knn.predict(X_test)\n",
    "\n",
    "print(\"Confusion Matrix:\")\n",
    "print(confusion_matrix(y_test,y_pred))\n",
    "print(\"\\nClassification Report:\")\n",
    "print(classification_report(y_test,y_pred))"
   ]
  },
  {
   "cell_type": "code",
   "execution_count": null,
   "id": "912ef33f",
   "metadata": {
    "papermill": {
     "duration": 0.001858,
     "end_time": "2023-11-06T07:13:37.606782",
     "exception": false,
     "start_time": "2023-11-06T07:13:37.604924",
     "status": "completed"
    },
    "tags": []
   },
   "outputs": [],
   "source": []
  }
 ],
 "metadata": {
  "kernelspec": {
   "display_name": "Python 3",
   "language": "python",
   "name": "python3"
  },
  "language_info": {
   "codemirror_mode": {
    "name": "ipython",
    "version": 3
   },
   "file_extension": ".py",
   "mimetype": "text/x-python",
   "name": "python",
   "nbconvert_exporter": "python",
   "pygments_lexer": "ipython3",
   "version": "3.10.12"
  },
  "papermill": {
   "default_parameters": {},
   "duration": 6.11763,
   "end_time": "2023-11-06T07:13:38.131017",
   "environment_variables": {},
   "exception": null,
   "input_path": "__notebook__.ipynb",
   "output_path": "__notebook__.ipynb",
   "parameters": {},
   "start_time": "2023-11-06T07:13:32.013387",
   "version": "2.4.0"
  }
 },
 "nbformat": 4,
 "nbformat_minor": 5
}
