{
 "cells": [
  {
   "cell_type": "code",
   "execution_count": 1,
   "id": "8b4ef787",
   "metadata": {
    "execution": {
     "iopub.execute_input": "2023-09-04T11:42:32.676376Z",
     "iopub.status.busy": "2023-09-04T11:42:32.675277Z",
     "iopub.status.idle": "2023-09-04T11:42:32.692800Z",
     "shell.execute_reply": "2023-09-04T11:42:32.691522Z"
    },
    "papermill": {
     "duration": 0.030121,
     "end_time": "2023-09-04T11:42:32.696999",
     "exception": false,
     "start_time": "2023-09-04T11:42:32.666878",
     "status": "completed"
    },
    "tags": []
   },
   "outputs": [
    {
     "name": "stdout",
     "output_type": "stream",
     "text": [
      "[1 5 8 9 7 5]\n"
     ]
    }
   ],
   "source": [
    "# convert list into numpy array\n",
    "\n",
    "import numpy as np\n",
    "\n",
    "my_list = [1,5,8,9,7,5]\n",
    "\n",
    "my_array = np.array(my_list)\n",
    "\n",
    "print(my_array)\n",
    "\n"
   ]
  },
  {
   "cell_type": "code",
   "execution_count": 2,
   "id": "a0be9c79",
   "metadata": {
    "execution": {
     "iopub.execute_input": "2023-09-04T11:42:32.709943Z",
     "iopub.status.busy": "2023-09-04T11:42:32.709470Z",
     "iopub.status.idle": "2023-09-04T11:42:32.716581Z",
     "shell.execute_reply": "2023-09-04T11:42:32.715642Z"
    },
    "papermill": {
     "duration": 0.016626,
     "end_time": "2023-09-04T11:42:32.718952",
     "exception": false,
     "start_time": "2023-09-04T11:42:32.702326",
     "status": "completed"
    },
    "tags": []
   },
   "outputs": [
    {
     "name": "stdout",
     "output_type": "stream",
     "text": [
      "[[ 2  3  4]\n",
      " [ 5  6  7]\n",
      " [ 8  9 10]]\n"
     ]
    }
   ],
   "source": [
    "# create 3*3 matrix with value range 2 to 10\n",
    "\n",
    "matrix = np.arange(2, 11).reshape(3, 3)\n",
    "\n",
    "print(matrix)\n"
   ]
  },
  {
   "cell_type": "code",
   "execution_count": 3,
   "id": "57921e29",
   "metadata": {
    "execution": {
     "iopub.execute_input": "2023-09-04T11:42:32.731293Z",
     "iopub.status.busy": "2023-09-04T11:42:32.730872Z",
     "iopub.status.idle": "2023-09-04T11:42:32.742557Z",
     "shell.execute_reply": "2023-09-04T11:42:32.741041Z"
    },
    "papermill": {
     "duration": 0.020861,
     "end_time": "2023-09-04T11:42:32.745082",
     "exception": false,
     "start_time": "2023-09-04T11:42:32.724221",
     "status": "completed"
    },
    "tags": []
   },
   "outputs": [
    {
     "name": "stdout",
     "output_type": "stream",
     "text": [
      "[[4 5 6]\n",
      " [1 2 3]\n",
      " [7 9 9]\n",
      " [7 9 6]]\n"
     ]
    }
   ],
   "source": [
    "# to append value at the end of array\n",
    "\n",
    " \n",
    "a_array = np.array([[4, 5, 6],[1,2,3]])\n",
    "\n",
    "values= np.random.randint(5,10,(2,3))\n",
    "\n",
    "b_array = np.append(a_array,values) # or (a_array,values,axis=0) \n",
    "\n",
    "c_array=b_array.reshape(4,3)\n",
    "\n",
    "print(c_array)\n"
   ]
  },
  {
   "cell_type": "code",
   "execution_count": 4,
   "id": "bf096f7b",
   "metadata": {
    "execution": {
     "iopub.execute_input": "2023-09-04T11:42:32.757796Z",
     "iopub.status.busy": "2023-09-04T11:42:32.757194Z",
     "iopub.status.idle": "2023-09-04T11:42:32.763719Z",
     "shell.execute_reply": "2023-09-04T11:42:32.762485Z"
    },
    "papermill": {
     "duration": 0.016194,
     "end_time": "2023-09-04T11:42:32.766437",
     "exception": false,
     "start_time": "2023-09-04T11:42:32.750243",
     "status": "completed"
    },
    "tags": []
   },
   "outputs": [
    {
     "name": "stdout",
     "output_type": "stream",
     "text": [
      "[[1 2]\n",
      " [3 2]\n",
      " [5 6]]\n"
     ]
    }
   ],
   "source": [
    "# Reshape the array \n",
    "a_array =np.array([[1,2,3],[2,5,6]])\n",
    "\n",
    "b_array=a_array.reshape(3,2)\n",
    "print(b_array)"
   ]
  },
  {
   "cell_type": "code",
   "execution_count": null,
   "id": "2d88933e",
   "metadata": {
    "papermill": {
     "duration": 0.004548,
     "end_time": "2023-09-04T11:42:32.775897",
     "exception": false,
     "start_time": "2023-09-04T11:42:32.771349",
     "status": "completed"
    },
    "tags": []
   },
   "outputs": [],
   "source": []
  }
 ],
 "kernelspec": {
  "display_name": "Python 3",
  "language": "python",
  "name": "python3"
 },
 "language_info": {
  "codemirror_mode": {
   "name": "ipython",
   "version": 3
  },
  "file_extension": ".py",
  "mimetype": "text/x-python",
  "name": "python",
  "nbconvert_exporter": "python",
  "pygments_lexer": "ipython3",
  "version": "3.6.4"
 },
 "metadata": {
  "kernelspec": {
   "display_name": "Python 3",
   "language": "python",
   "name": "python3"
  },
  "language_info": {
   "codemirror_mode": {
    "name": "ipython",
    "version": 3
   },
   "file_extension": ".py",
   "mimetype": "text/x-python",
   "name": "python",
   "nbconvert_exporter": "python",
   "pygments_lexer": "ipython3",
   "version": "3.10.12"
  },
  "papermill": {
   "default_parameters": {},
   "duration": 6.39804,
   "end_time": "2023-09-04T11:42:33.407819",
   "environment_variables": {},
   "exception": null,
   "input_path": "__notebook__.ipynb",
   "output_path": "__notebook__.ipynb",
   "parameters": {},
   "start_time": "2023-09-04T11:42:27.009779",
   "version": "2.4.0"
  }
 },
 "nbformat": 4,
 "nbformat_minor": 5
}
