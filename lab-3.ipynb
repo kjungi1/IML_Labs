{
 "cells": [
  {
   "cell_type": "code",
   "execution_count": 1,
   "id": "0ef33268",
   "metadata": {
    "execution": {
     "iopub.execute_input": "2023-09-04T12:08:59.787181Z",
     "iopub.status.busy": "2023-09-04T12:08:59.786772Z",
     "iopub.status.idle": "2023-09-04T12:08:59.804145Z",
     "shell.execute_reply": "2023-09-04T12:08:59.802534Z"
    },
    "papermill": {
     "duration": 0.027598,
     "end_time": "2023-09-04T12:08:59.807934",
     "exception": false,
     "start_time": "2023-09-04T12:08:59.780336",
     "status": "completed"
    },
    "tags": []
   },
   "outputs": [
    {
     "name": "stdout",
     "output_type": "stream",
     "text": [
      "[array([1, 2]), array([3, 4, 5, 6]), array([ 7,  8,  9, 10, 11, 12, 13, 14])]\n"
     ]
    }
   ],
   "source": [
    "# to split an array of 14 elements into 3 arrays, each with 2, 4, and 8 elements in the original order\n",
    "\n",
    "import numpy as np\n",
    "\n",
    "original_array = np.array([1, 2, 3, 4, 5, 6, 7, 8, 9, 10, 11, 12, 13, 14])\n",
    "\n",
    "parts = np.split(original_array, [2, 6])\n",
    "\n",
    "# array1, array2, array3 = parts\n",
    "\n",
    "# Print the split arrays\n",
    "# print(\"Array 1:\", array1)\n",
    "# print(\"Array 2:\", array2)\n",
    "# print(\"Array 3:\", array3)\n",
    "\n",
    "print(parts)"
   ]
  },
  {
   "cell_type": "code",
   "execution_count": 2,
   "id": "4c516905",
   "metadata": {
    "execution": {
     "iopub.execute_input": "2023-09-04T12:08:59.818656Z",
     "iopub.status.busy": "2023-09-04T12:08:59.818187Z",
     "iopub.status.idle": "2023-09-04T12:08:59.826380Z",
     "shell.execute_reply": "2023-09-04T12:08:59.824861Z"
    },
    "papermill": {
     "duration": 0.017263,
     "end_time": "2023-09-04T12:08:59.829692",
     "exception": false,
     "start_time": "2023-09-04T12:08:59.812429",
     "status": "completed"
    },
    "tags": []
   },
   "outputs": [
    {
     "name": "stdout",
     "output_type": "stream",
     "text": [
      "[1 2 3 4 5 6]\n"
     ]
    }
   ],
   "source": [
    "# to stack arrays horizontally (column wise) \n",
    "\n",
    "import numpy as np\n",
    "\n",
    "array1 = np.array([1, 2, 3])\n",
    "array2 = np.array([4, 5, 6])\n",
    "\n",
    "stacked_array = np.hstack((array1, array2))   # dstack(transpose of matrix) and vstack(vertical)\n",
    "\n",
    "print(stacked_array)\n"
   ]
  }
 ],
 "kernelspec": {
  "display_name": "Python 3",
  "language": "python",
  "name": "python3"
 },
 "language_info": {
  "codemirror_mode": {
   "name": "ipython",
   "version": 3
  },
  "file_extension": ".py",
  "mimetype": "text/x-python",
  "name": "python",
  "nbconvert_exporter": "python",
  "pygments_lexer": "ipython3",
  "version": "3.6.4"
 },
 "metadata": {
  "kernelspec": {
   "display_name": "Python 3",
   "language": "python",
   "name": "python3"
  },
  "language_info": {
   "codemirror_mode": {
    "name": "ipython",
    "version": 3
   },
   "file_extension": ".py",
   "mimetype": "text/x-python",
   "name": "python",
   "nbconvert_exporter": "python",
   "pygments_lexer": "ipython3",
   "version": "3.10.12"
  },
  "papermill": {
   "default_parameters": {},
   "duration": 4.801171,
   "end_time": "2023-09-04T12:09:00.359959",
   "environment_variables": {},
   "exception": null,
   "input_path": "__notebook__.ipynb",
   "output_path": "__notebook__.ipynb",
   "parameters": {},
   "start_time": "2023-09-04T12:08:55.558788",
   "version": "2.4.0"
  }
 },
 "nbformat": 4,
 "nbformat_minor": 5
}
