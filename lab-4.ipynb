{
 "cells": [
  {
   "cell_type": "code",
   "execution_count": 1,
   "id": "0011c37d",
   "metadata": {
    "execution": {
     "iopub.execute_input": "2023-11-06T07:04:45.794747Z",
     "iopub.status.busy": "2023-11-06T07:04:45.794369Z",
     "iopub.status.idle": "2023-11-06T07:04:45.816846Z",
     "shell.execute_reply": "2023-11-06T07:04:45.815489Z"
    },
    "papermill": {
     "duration": 0.031155,
     "end_time": "2023-11-06T07:04:45.819866",
     "exception": false,
     "start_time": "2023-11-06T07:04:45.788711",
     "status": "completed"
    },
    "tags": []
   },
   "outputs": [
    {
     "name": "stdout",
     "output_type": "stream",
     "text": [
      "Addition of numpy arrays\n",
      "[2 4 6]\n",
      "\n",
      "Subtraction of numpy arrays\n",
      "[0 0 0]\n",
      "\n",
      "Multiplication of numpy arrays\n",
      "[1 4 9]\n",
      "\n",
      "Division of numpy arrays\n",
      "[1. 1. 1.]\n",
      "\n",
      "Subtraction of numpy arrays\n",
      "[0 0 0]\n",
      "\n"
     ]
    }
   ],
   "source": [
    "#  (4.1) to add, subtract, multiply, divide arguments element-wise \n",
    "\n",
    "# KISHAN JUNGI\n",
    "# 216270307014\n",
    "\n",
    "import numpy as np\n",
    "\n",
    "a_array=np.array([1,2,3])\n",
    "b_array=np.array([1,2,3])\n",
    "\n",
    "print(\"Addition of numpy arrays\")\n",
    "add=a_array+b_array\n",
    "print(add)\n",
    "print()\n",
    "\n",
    "print(\"Subtraction of numpy arrays\")\n",
    "sub= a_array-b_array\n",
    "print(sub)\n",
    "print()\n",
    "\n",
    "print(\"Multiplication of numpy arrays\")\n",
    "mup = a_array*b_array\n",
    "print(mup)\n",
    "print()\n",
    "\n",
    "print(\"Division of numpy arrays\")\n",
    "div= a_array/b_array\n",
    "print(div)\n",
    "print()\n",
    "\n",
    "print(\"Subtraction of numpy arrays\")\n",
    "sub= a_array-b_array\n",
    "print(sub)\n",
    "print()\n",
    "\n",
    "\n"
   ]
  },
  {
   "cell_type": "code",
   "execution_count": 2,
   "id": "5e36ee37",
   "metadata": {
    "execution": {
     "iopub.execute_input": "2023-11-06T07:04:45.830658Z",
     "iopub.status.busy": "2023-11-06T07:04:45.829523Z",
     "iopub.status.idle": "2023-11-06T07:04:45.837724Z",
     "shell.execute_reply": "2023-11-06T07:04:45.836273Z"
    },
    "papermill": {
     "duration": 0.015442,
     "end_time": "2023-11-06T07:04:45.840469",
     "exception": false,
     "start_time": "2023-11-06T07:04:45.825027",
     "status": "completed"
    },
    "tags": []
   },
   "outputs": [
    {
     "name": "stdout",
     "output_type": "stream",
     "text": [
      "Round of Array\n",
      "[1. 2. 6. 4. 4. 5.]\n",
      "\n"
     ]
    }
   ],
   "source": [
    "# (4.2) to round elements of the array to the nearest integer\n",
    "\n",
    "# KISHAN JUNGI\n",
    "# 216270307014\n",
    "\n",
    "a1=np.array([1.2,2.5,5.6,4.2,3.7,5.4])\n",
    "\n",
    "round_array=np.round(a1)\n",
    "\n",
    "print(\"Round of Array\")\n",
    "print(round_array)\n",
    "print()\n"
   ]
  },
  {
   "cell_type": "code",
   "execution_count": 3,
   "id": "b934ca90",
   "metadata": {
    "execution": {
     "iopub.execute_input": "2023-11-06T07:04:45.848393Z",
     "iopub.status.busy": "2023-11-06T07:04:45.847976Z",
     "iopub.status.idle": "2023-11-06T07:04:45.855287Z",
     "shell.execute_reply": "2023-11-06T07:04:45.853917Z"
    },
    "papermill": {
     "duration": 0.014386,
     "end_time": "2023-11-06T07:04:45.857837",
     "exception": false,
     "start_time": "2023-11-06T07:04:45.843451",
     "status": "completed"
    },
    "tags": []
   },
   "outputs": [
    {
     "name": "stdout",
     "output_type": "stream",
     "text": [
      "Round of 2-D Array\n",
      "5.5\n"
     ]
    }
   ],
   "source": [
    "# (4.3) to calculate mean across dimension, in a 2D numpy array\n",
    "\n",
    "# KISHAN JUNGI\n",
    "# 216270307014\n",
    "\n",
    "arr = np.array([[5, 8, 3, 7], [9, 4, 2, 6]])\n",
    "arr1 = np.mean(arr) \n",
    "print(\"Round of 2-D Array\")\n",
    "print(arr1)\n"
   ]
  },
  {
   "cell_type": "code",
   "execution_count": 4,
   "id": "5afe9a9b",
   "metadata": {
    "execution": {
     "iopub.execute_input": "2023-11-06T07:04:45.866122Z",
     "iopub.status.busy": "2023-11-06T07:04:45.865651Z",
     "iopub.status.idle": "2023-11-06T07:04:45.873457Z",
     "shell.execute_reply": "2023-11-06T07:04:45.872116Z"
    },
    "papermill": {
     "duration": 0.015414,
     "end_time": "2023-11-06T07:04:45.876338",
     "exception": false,
     "start_time": "2023-11-06T07:04:45.860924",
     "status": "completed"
    },
    "tags": []
   },
   "outputs": [
    {
     "name": "stdout",
     "output_type": "stream",
     "text": [
      "differences between neighboring elements\n",
      "[ 3  3 -5  7]\n"
     ]
    }
   ],
   "source": [
    "# (4.4) to calculate the difference between neighboring elements, element\u0002wise of a given array\n",
    "\n",
    "\n",
    "# KISHAN JUNGI\n",
    "# 216270307014\n",
    "\n",
    "input_array = np.array([1, 4, 7, 2, 9])\n",
    "\n",
    "print(\"differences between neighboring elements\")\n",
    "differences = np.diff(input_array)\n",
    "\n",
    "print(differences)\n"
   ]
  },
  {
   "cell_type": "code",
   "execution_count": null,
   "id": "deeaf1be",
   "metadata": {
    "papermill": {
     "duration": 0.002751,
     "end_time": "2023-11-06T07:04:45.882213",
     "exception": false,
     "start_time": "2023-11-06T07:04:45.879462",
     "status": "completed"
    },
    "tags": []
   },
   "outputs": [],
   "source": []
  }
 ],
 "metadata": {
  "kernelspec": {
   "display_name": "Python 3",
   "language": "python",
   "name": "python3"
  },
  "language_info": {
   "codemirror_mode": {
    "name": "ipython",
    "version": 3
   },
   "file_extension": ".py",
   "mimetype": "text/x-python",
   "name": "python",
   "nbconvert_exporter": "python",
   "pygments_lexer": "ipython3",
   "version": "3.10.12"
  },
  "papermill": {
   "default_parameters": {},
   "duration": 4.347082,
   "end_time": "2023-11-06T07:04:46.307321",
   "environment_variables": {},
   "exception": null,
   "input_path": "__notebook__.ipynb",
   "output_path": "__notebook__.ipynb",
   "parameters": {},
   "start_time": "2023-11-06T07:04:41.960239",
   "version": "2.4.0"
  }
 },
 "nbformat": 4,
 "nbformat_minor": 5
}
