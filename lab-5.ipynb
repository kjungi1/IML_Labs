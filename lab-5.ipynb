{
 "cells": [
  {
   "cell_type": "code",
   "execution_count": 1,
   "id": "72f96b88",
   "metadata": {
    "execution": {
     "iopub.execute_input": "2023-11-06T07:05:35.592284Z",
     "iopub.status.busy": "2023-11-06T07:05:35.591841Z",
     "iopub.status.idle": "2023-11-06T07:05:35.609602Z",
     "shell.execute_reply": "2023-11-06T07:05:35.608661Z"
    },
    "papermill": {
     "duration": 0.024772,
     "end_time": "2023-11-06T07:05:35.612343",
     "exception": false,
     "start_time": "2023-11-06T07:05:35.587571",
     "status": "completed"
    },
    "tags": []
   },
   "outputs": [
    {
     "name": "stdout",
     "output_type": "stream",
     "text": [
      "Minimum value of given array\n",
      "1\n",
      "\n",
      "Maximum value of given array\n",
      "8\n"
     ]
    }
   ],
   "source": [
    "# to find the maximum and minimum value of a given flattened array\n",
    "\n",
    "# KISHAN JUNGI\n",
    "# 216270307014\n",
    "\n",
    "import numpy as np\n",
    "arr = np.array([1, 5, 4, 8, 3, 7])\n",
    "\n",
    "print(\"Minimum value of given array\")\n",
    "print(np.min(arr))\n",
    "print()\n",
    "\n",
    "print(\"Maximum value of given array\")\n",
    "print(np.max(arr))"
   ]
  },
  {
   "cell_type": "code",
   "execution_count": 2,
   "id": "e6a308db",
   "metadata": {
    "execution": {
     "iopub.execute_input": "2023-11-06T07:05:35.620932Z",
     "iopub.status.busy": "2023-11-06T07:05:35.620499Z",
     "iopub.status.idle": "2023-11-06T07:05:35.630401Z",
     "shell.execute_reply": "2023-11-06T07:05:35.628836Z"
    },
    "papermill": {
     "duration": 0.017889,
     "end_time": "2023-11-06T07:05:35.632768",
     "exception": false,
     "start_time": "2023-11-06T07:05:35.614879",
     "status": "completed"
    },
    "tags": []
   },
   "outputs": [
    {
     "name": "stdout",
     "output_type": "stream",
     "text": [
      "Mean along axis 0: [4. 5. 6.]\n",
      "\n",
      "Standard Deviation along axis 0: [2.44948974 2.44948974 2.44948974]\n",
      "\n",
      "Variance along axis 0: [6. 6. 6.]\n"
     ]
    }
   ],
   "source": [
    "# to compute the mean, standard deviation, and variance of a given array along the second axis\n",
    "\n",
    "# KISHAN JUNGI\n",
    "# 216270307014\n",
    "\n",
    "data = np.array([[1, 2, 3],\n",
    "                 [4, 5, 6],\n",
    "                 [7, 8, 9]])\n",
    "\n",
    "mean_values = np.mean(data, axis=0)\n",
    "\n",
    "std_deviation = np.std(data, axis=0)\n",
    "\n",
    "variance = np.var(data, axis=0)\n",
    "\n",
    "print(\"Mean along axis 0:\", mean_values)\n",
    "print()\n",
    "print(\"Standard Deviation along axis 0:\", std_deviation)\n",
    "print()\n",
    "print(\"Variance along axis 0:\", variance)\n"
   ]
  },
  {
   "cell_type": "code",
   "execution_count": null,
   "id": "e588e835",
   "metadata": {
    "papermill": {
     "duration": 0.002069,
     "end_time": "2023-11-06T07:05:35.637382",
     "exception": false,
     "start_time": "2023-11-06T07:05:35.635313",
     "status": "completed"
    },
    "tags": []
   },
   "outputs": [],
   "source": []
  }
 ],
 "metadata": {
  "kernelspec": {
   "display_name": "Python 3",
   "language": "python",
   "name": "python3"
  },
  "language_info": {
   "codemirror_mode": {
    "name": "ipython",
    "version": 3
   },
   "file_extension": ".py",
   "mimetype": "text/x-python",
   "name": "python",
   "nbconvert_exporter": "python",
   "pygments_lexer": "ipython3",
   "version": "3.10.12"
  },
  "papermill": {
   "default_parameters": {},
   "duration": 4.292328,
   "end_time": "2023-11-06T07:05:36.059579",
   "environment_variables": {},
   "exception": null,
   "input_path": "__notebook__.ipynb",
   "output_path": "__notebook__.ipynb",
   "parameters": {},
   "start_time": "2023-11-06T07:05:31.767251",
   "version": "2.4.0"
  }
 },
 "nbformat": 4,
 "nbformat_minor": 5
}
