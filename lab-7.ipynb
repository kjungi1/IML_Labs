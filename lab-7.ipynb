{
 "cells": [
  {
   "cell_type": "markdown",
   "id": "5309c5b0",
   "metadata": {
    "execution": {
     "iopub.execute_input": "2023-09-22T06:43:44.216613Z",
     "iopub.status.busy": "2023-09-22T06:43:44.216220Z",
     "iopub.status.idle": "2023-09-22T06:43:44.236050Z",
     "shell.execute_reply": "2023-09-22T06:43:44.235038Z",
     "shell.execute_reply.started": "2023-09-22T06:43:44.216575Z"
    },
    "papermill": {
     "duration": 0.004143,
     "end_time": "2023-11-06T07:07:13.553381",
     "exception": false,
     "start_time": "2023-11-06T07:07:13.549238",
     "status": "completed"
    },
    "tags": []
   },
   "source": [
    "# Jungi Kishan Gopalbhai [216270307014]\n",
    "\n",
    "# Practical 7\n",
    "\n",
    "# 1.Write a Pandas program to create a dataframe from a dictionary and display it\n",
    "\n"
   ]
  },
  {
   "cell_type": "code",
   "execution_count": 1,
   "id": "33a09881",
   "metadata": {
    "execution": {
     "iopub.execute_input": "2023-11-06T07:07:13.565228Z",
     "iopub.status.busy": "2023-11-06T07:07:13.564790Z",
     "iopub.status.idle": "2023-11-06T07:07:14.033033Z",
     "shell.execute_reply": "2023-11-06T07:07:14.031425Z"
    },
    "papermill": {
     "duration": 0.478887,
     "end_time": "2023-11-06T07:07:14.036268",
     "exception": false,
     "start_time": "2023-11-06T07:07:13.557381",
     "status": "completed"
    },
    "tags": []
   },
   "outputs": [
    {
     "name": "stdout",
     "output_type": "stream",
     "text": [
      "     name  age\n",
      "0  kishan   21\n",
      "1   hiten   19\n",
      "2   payal   24\n"
     ]
    },
    {
     "data": {
      "text/html": [
       "<div>\n",
       "<style scoped>\n",
       "    .dataframe tbody tr th:only-of-type {\n",
       "        vertical-align: middle;\n",
       "    }\n",
       "\n",
       "    .dataframe tbody tr th {\n",
       "        vertical-align: top;\n",
       "    }\n",
       "\n",
       "    .dataframe thead th {\n",
       "        text-align: right;\n",
       "    }\n",
       "</style>\n",
       "<table border=\"1\" class=\"dataframe\">\n",
       "  <thead>\n",
       "    <tr style=\"text-align: right;\">\n",
       "      <th></th>\n",
       "      <th>name</th>\n",
       "      <th>age</th>\n",
       "    </tr>\n",
       "  </thead>\n",
       "  <tbody>\n",
       "    <tr>\n",
       "      <th>0</th>\n",
       "      <td>kishan</td>\n",
       "      <td>21</td>\n",
       "    </tr>\n",
       "    <tr>\n",
       "      <th>1</th>\n",
       "      <td>hiten</td>\n",
       "      <td>19</td>\n",
       "    </tr>\n",
       "    <tr>\n",
       "      <th>2</th>\n",
       "      <td>payal</td>\n",
       "      <td>24</td>\n",
       "    </tr>\n",
       "  </tbody>\n",
       "</table>\n",
       "</div>"
      ],
      "text/plain": [
       "     name  age\n",
       "0  kishan   21\n",
       "1   hiten   19\n",
       "2   payal   24"
      ]
     },
     "execution_count": 1,
     "metadata": {},
     "output_type": "execute_result"
    }
   ],
   "source": [
    "# (7.1) Write a Pandas program to create a dataframe from a dictionary and display it\n",
    "\n",
    "# KISHAN JUNGI\n",
    "# 216270307014 \n",
    "\n",
    "import numpy as np\n",
    "import pandas as pd\n",
    "\n",
    "a={'name':[\"kishan\",\"hiten\",\"payal\"], 'age':[21,19,24]}\n",
    "\n",
    "b=pd.DataFrame(a)\n",
    "\n",
    "print(b)\n",
    "\n",
    "b"
   ]
  },
  {
   "cell_type": "markdown",
   "id": "73571f61",
   "metadata": {
    "papermill": {
     "duration": 0.004583,
     "end_time": "2023-11-06T07:07:14.045011",
     "exception": false,
     "start_time": "2023-11-06T07:07:14.040428",
     "status": "completed"
    },
    "tags": []
   },
   "source": [
    "# 2.Write a Pandas program to sort the DataFrame first by 'name' in ascending order"
   ]
  },
  {
   "cell_type": "code",
   "execution_count": 2,
   "id": "f40422da",
   "metadata": {
    "execution": {
     "iopub.execute_input": "2023-11-06T07:07:14.055655Z",
     "iopub.status.busy": "2023-11-06T07:07:14.055058Z",
     "iopub.status.idle": "2023-11-06T07:07:14.077397Z",
     "shell.execute_reply": "2023-11-06T07:07:14.075940Z"
    },
    "papermill": {
     "duration": 0.030723,
     "end_time": "2023-11-06T07:07:14.079964",
     "exception": false,
     "start_time": "2023-11-06T07:07:14.049241",
     "status": "completed"
    },
    "tags": []
   },
   "outputs": [
    {
     "name": "stdout",
     "output_type": "stream",
     "text": [
      "     name  age\n",
      "1   hiten   19\n",
      "0  kishan   21\n",
      "2   payal   24\n"
     ]
    },
    {
     "data": {
      "text/html": [
       "<div>\n",
       "<style scoped>\n",
       "    .dataframe tbody tr th:only-of-type {\n",
       "        vertical-align: middle;\n",
       "    }\n",
       "\n",
       "    .dataframe tbody tr th {\n",
       "        vertical-align: top;\n",
       "    }\n",
       "\n",
       "    .dataframe thead th {\n",
       "        text-align: right;\n",
       "    }\n",
       "</style>\n",
       "<table border=\"1\" class=\"dataframe\">\n",
       "  <thead>\n",
       "    <tr style=\"text-align: right;\">\n",
       "      <th></th>\n",
       "      <th>name</th>\n",
       "      <th>age</th>\n",
       "    </tr>\n",
       "  </thead>\n",
       "  <tbody>\n",
       "    <tr>\n",
       "      <th>1</th>\n",
       "      <td>hiten</td>\n",
       "      <td>19</td>\n",
       "    </tr>\n",
       "    <tr>\n",
       "      <th>0</th>\n",
       "      <td>kishan</td>\n",
       "      <td>21</td>\n",
       "    </tr>\n",
       "    <tr>\n",
       "      <th>2</th>\n",
       "      <td>payal</td>\n",
       "      <td>24</td>\n",
       "    </tr>\n",
       "  </tbody>\n",
       "</table>\n",
       "</div>"
      ],
      "text/plain": [
       "     name  age\n",
       "1   hiten   19\n",
       "0  kishan   21\n",
       "2   payal   24"
      ]
     },
     "execution_count": 2,
     "metadata": {},
     "output_type": "execute_result"
    }
   ],
   "source": [
    "# (7.2) Write a Pandas program to sort the DataFrame first by 'name' in ascending order\n",
    "\n",
    "# KISHAN JUNGI\n",
    "# 216270307014 \n",
    "\n",
    "a={'name':[\"kishan\",\"hiten\",\"payal\"], 'age':[21,19,24]}\n",
    "\n",
    "b=pd.DataFrame(a)\n",
    "\n",
    "df=b.sort_values(by=\"name\",ascending=True)\n",
    "print(df)\n",
    "df"
   ]
  },
  {
   "cell_type": "markdown",
   "id": "41f8c1c6",
   "metadata": {
    "papermill": {
     "duration": 0.004117,
     "end_time": "2023-11-06T07:07:14.088576",
     "exception": false,
     "start_time": "2023-11-06T07:07:14.084459",
     "status": "completed"
    },
    "tags": []
   },
   "source": [
    "# 3.Write a Pandas pr0ogram to delete the one specific column from the DataFrame"
   ]
  },
  {
   "cell_type": "code",
   "execution_count": 3,
   "id": "946ba0e1",
   "metadata": {
    "execution": {
     "iopub.execute_input": "2023-11-06T07:07:14.099238Z",
     "iopub.status.busy": "2023-11-06T07:07:14.098801Z",
     "iopub.status.idle": "2023-11-06T07:07:14.113059Z",
     "shell.execute_reply": "2023-11-06T07:07:14.111772Z"
    },
    "papermill": {
     "duration": 0.022511,
     "end_time": "2023-11-06T07:07:14.115442",
     "exception": false,
     "start_time": "2023-11-06T07:07:14.092931",
     "status": "completed"
    },
    "tags": []
   },
   "outputs": [
    {
     "name": "stdout",
     "output_type": "stream",
     "text": [
      "     name\n",
      "0  kishan\n",
      "1   hiten\n",
      "2   payal\n"
     ]
    }
   ],
   "source": [
    "# (7.3) Write a Pandas pr0ogram to delete the one specific column from the DataFrame\n",
    "\n",
    "\n",
    "# KISHAN JUNGI\n",
    "# 216270307014 \n",
    "\n",
    "a={'name':[\"kishan\",\"hiten\",\"payal\"], 'age':[21,19,24]}\n",
    "\n",
    "b=pd.DataFrame(a)\n",
    "\n",
    "df=b.drop(\"age\",axis=1)\n",
    "\n",
    "df\n",
    "print(df)"
   ]
  },
  {
   "cell_type": "markdown",
   "id": "146bcd7b",
   "metadata": {
    "papermill": {
     "duration": 0.004187,
     "end_time": "2023-11-06T07:07:14.124175",
     "exception": false,
     "start_time": "2023-11-06T07:07:14.119988",
     "status": "completed"
    },
    "tags": []
   },
   "source": [
    "# 4.Write a Pandas program to write a DataFrame to CSV file using tab separator"
   ]
  },
  {
   "cell_type": "code",
   "execution_count": 4,
   "id": "bf5b979c",
   "metadata": {
    "execution": {
     "iopub.execute_input": "2023-11-06T07:07:14.135432Z",
     "iopub.status.busy": "2023-11-06T07:07:14.135003Z",
     "iopub.status.idle": "2023-11-06T07:07:14.149398Z",
     "shell.execute_reply": "2023-11-06T07:07:14.148540Z"
    },
    "papermill": {
     "duration": 0.02321,
     "end_time": "2023-11-06T07:07:14.151968",
     "exception": false,
     "start_time": "2023-11-06T07:07:14.128758",
     "status": "completed"
    },
    "tags": []
   },
   "outputs": [
    {
     "name": "stdout",
     "output_type": "stream",
     "text": [
      "DataFrame saved to 'output_file.csv'\n"
     ]
    }
   ],
   "source": [
    "# (7.4) Write a Pandas program to write a DataFrame to CSV file using tab separator\n",
    "\n",
    "# KISHAN JUNGI\n",
    "# 216270307014 \n",
    "\n",
    "import pandas as pd\n",
    "\n",
    "# Create a DataFrame\n",
    "data = {\n",
    "    'Name': ['Alice', 'Bob', 'Charlie', 'David'],\n",
    "    'Age': [25, 30, 22, 28],\n",
    "    'City': ['New York', 'Los Angeles', 'Chicago', 'Houston']\n",
    "}\n",
    "\n",
    "df = pd.DataFrame(data)\n",
    "\n",
    "# Write the DataFrame to a CSV file with tab separator\n",
    "df.to_csv('output_file.csv', sep='\\t', index=False)\n",
    "\n",
    "print(\"DataFrame saved to 'output_file.csv'\")\n"
   ]
  },
  {
   "cell_type": "code",
   "execution_count": null,
   "id": "a0c84f0d",
   "metadata": {
    "papermill": {
     "duration": 0.004311,
     "end_time": "2023-11-06T07:07:14.160961",
     "exception": false,
     "start_time": "2023-11-06T07:07:14.156650",
     "status": "completed"
    },
    "tags": []
   },
   "outputs": [],
   "source": []
  }
 ],
 "metadata": {
  "kernelspec": {
   "display_name": "Python 3",
   "language": "python",
   "name": "python3"
  },
  "language_info": {
   "codemirror_mode": {
    "name": "ipython",
    "version": 3
   },
   "file_extension": ".py",
   "mimetype": "text/x-python",
   "name": "python",
   "nbconvert_exporter": "python",
   "pygments_lexer": "ipython3",
   "version": "3.10.12"
  },
  "papermill": {
   "default_parameters": {},
   "duration": 4.96521,
   "end_time": "2023-11-06T07:07:14.686767",
   "environment_variables": {},
   "exception": null,
   "input_path": "__notebook__.ipynb",
   "output_path": "__notebook__.ipynb",
   "parameters": {},
   "start_time": "2023-11-06T07:07:09.721557",
   "version": "2.4.0"
  }
 },
 "nbformat": 4,
 "nbformat_minor": 5
}
